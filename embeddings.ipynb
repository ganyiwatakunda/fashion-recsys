{
  "nbformat": 4,
  "nbformat_minor": 0,
  "metadata": {
    "colab": {
      "provenance": []
    },
    "kernelspec": {
      "name": "python3",
      "display_name": "Python 3"
    },
    "language_info": {
      "name": "python"
    }
  },
  "cells": [
    {
      "cell_type": "code",
      "source": [
        "from google.colab import drive\n",
        "drive.mount('/content/drive')"
      ],
      "metadata": {
        "colab": {
          "base_uri": "https://localhost:8080/"
        },
        "id": "zLFZa21_VAk6",
        "outputId": "5a58f89f-fb36-4060-e27c-2f071c87f10b"
      },
      "execution_count": 6,
      "outputs": [
        {
          "output_type": "stream",
          "name": "stdout",
          "text": [
            "Drive already mounted at /content/drive; to attempt to forcibly remount, call drive.mount(\"/content/drive\", force_remount=True).\n"
          ]
        }
      ]
    },
    {
      "cell_type": "code",
      "execution_count": 8,
      "metadata": {
        "id": "TpUKRHGoT9zz"
      },
      "outputs": [],
      "source": [
        "import pickle\n",
        "DATA_PATH = \"/content/drive/My Drive\"\n",
        "infile = open(DATA_PATH+'/embeddings.pkl','rb')\n",
        "embeddings = pickle.load(infile)\n"
      ]
    }
  ]
}